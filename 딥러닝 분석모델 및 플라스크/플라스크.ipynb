{
 "cells": [
  {
   "cell_type": "code",
   "execution_count": 4,
   "metadata": {},
   "outputs": [],
   "source": [
    "import numpy as np\n",
    "import pandas as pd\n",
    "import matplotlib.pyplot as plt\n",
    "from PIL import Image\n",
    "import tensorflow\n",
    "from tensorflow.keras.models import load_model\n",
    "import os\n",
    "\n",
    "\n",
    "def load_images(default_path,resize_shape):\n",
    "    \n",
    "    images = []\n",
    "    image = Image.open(default_path).resize(resize_shape) # 이미지 로딩후 리사이징\n",
    "    images.append(np.array(image)) # numpy배열로 변환후 리스트에 추가\n",
    "    \n",
    "    return np.array(images) # 전체 이미지 리스트를 numpy배열로 변환\n"
   ]
  },
  {
   "cell_type": "code",
   "execution_count": null,
   "metadata": {
    "scrolled": true
   },
   "outputs": [
    {
     "name": "stdout",
     "output_type": "stream",
     "text": [
      " * Serving Flask app \"__main__\" (lazy loading)\n",
      " * Environment: production\n",
      "   WARNING: This is a development server. Do not use it in a production deployment.\n",
      "   Use a production WSGI server instead.\n",
      " * Debug mode: off\n"
     ]
    },
    {
     "name": "stderr",
     "output_type": "stream",
     "text": [
      " * Running on http://localhost:9000/ (Press CTRL+C to quit)\n"
     ]
    }
   ],
   "source": [
    "\n",
    "############################ 이상 전처리에쓸거 #############################\n",
    "\n",
    "from flask import Flask, render_template, url_for, redirect, request\n",
    "app = Flask(__name__)\n",
    "\n",
    "@app.route('/index')\n",
    "def index():\n",
    "    return redirect('http://127.0.0.1:8070/SaveUS_last_last/index.jsp')\n",
    "# 파일이 업로드 안되어있거나 이상할 경우 이걸로 실행 1\n",
    "\n",
    "\n",
    "@app.route('/trash_recognition', methods=['POST'])\n",
    "def trash_recognition():\n",
    "    file = request.files['file'] # 사진이름\n",
    "    print('1')\n",
    "    file.save(\"C:/Users\\HP/Desktop/last_pj/.metadata/.plugins/org.eclipse.wst.server.core/tmp0/wtpwebapps/SaveUS_last_last/test/test.jpg\") # 서버에 사진 저장\n",
    "    print('2')\n",
    "    file = load_images(\"C:/Users\\HP/Desktop/last_pj/.metadata/.plugins/org.eclipse.wst.server.core/tmp0/wtpwebapps/SaveUS_last_last/test/test.jpg\",(300,300))/255 #\"C:/Users/HP/Desktop/last_pj/SaveUS_last_last/WebContent/test/test.jpg\"\n",
    "    print('3')\n",
    "    model = load_model('./model/trained_model.h5')\n",
    "    print('4')\n",
    "    result=model.predict_classes(file)\n",
    "    print('5')\n",
    "    pre = result[0]\n",
    "    print('6')\n",
    "    return redirect('http://localhost:8070/SaveUS_last_last/smart.jsp?result={}&path=./test/test.jpg'.format(pre))\n",
    "if __name__ == \"__main__\" : # .py 파일에서 main함수 역할\n",
    "    app.run(host=\"localhost\", port=\"9000\")"
   ]
  },
  {
   "cell_type": "code",
   "execution_count": null,
   "metadata": {},
   "outputs": [],
   "source": []
  },
  {
   "cell_type": "code",
   "execution_count": null,
   "metadata": {},
   "outputs": [],
   "source": []
  }
 ],
 "metadata": {
  "kernelspec": {
   "display_name": "Python 3",
   "language": "python",
   "name": "python3"
  },
  "language_info": {
   "codemirror_mode": {
    "name": "ipython",
    "version": 3
   },
   "file_extension": ".py",
   "mimetype": "text/x-python",
   "name": "python",
   "nbconvert_exporter": "python",
   "pygments_lexer": "ipython3",
   "version": "3.7.6"
  }
 },
 "nbformat": 4,
 "nbformat_minor": 4
}
