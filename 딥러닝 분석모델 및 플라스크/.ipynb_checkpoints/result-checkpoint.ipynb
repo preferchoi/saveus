{
 "cells": [
  {
   "cell_type": "code",
   "execution_count": 1,
   "metadata": {},
   "outputs": [],
   "source": [
    "import numpy as np\n",
    "import pandas as pd\n",
    "import matplotlib.pyplot as plt\n",
    "from PIL import Image\n",
    "import tensorflow as tf\n",
    "\n",
    "# gpus = tf.config.experimental.list_physical_devices('GPU')\n",
    "# # gpu 사용할 때\n",
    "# if gpus:\n",
    "#     try:\n",
    "#         # Currently, memory growth needs to be the same across GPUs\n",
    "#         for gpu in gpus:\n",
    "#             tf.config.experimental.set_memory_growth(gpu, True)\n",
    "#         logical_gpus = tf.config.experimental.list_logical_devices('GPU')\n",
    "#         print(len(gpus), \"Physical GPUs,\", len(logical_gpus), \"Logical GPUs\")\n",
    "#     except RuntimeError as e:\n",
    "#         # Memory growth must be set before GPUs have been initialized\n",
    "#         print(e)\n",
    "\n",
    "from tensorflow.keras.models import Sequential # 딥러닝 모델\n",
    "from tensorflow.keras.layers import Dense,Conv2D,MaxPool2D,Flatten,Dropout # 레이어 설정 *Dense 레이어 만들때 사용\n",
    "from tensorflow.keras.callbacks import EarlyStopping, ModelCheckpoint # 조건 설정\n",
    "from tensorflow.keras.models import load_model # 모델 가져오기import os\n",
    "import os"
   ]
  },
  {
   "cell_type": "code",
   "execution_count": 2,
   "metadata": {},
   "outputs": [],
   "source": [
    "def load_images(default_path,filenames,resize_shape):\n",
    "    images = []\n",
    "    \n",
    "    for fname in filenames:\n",
    "        filepath = os.path.join(default_path,fname) # 경로생성\n",
    "        image = Image.open(filepath).resize(resize_shape) # 이미지 로딩후 리사이징\n",
    "        images.append(np.array(image)) # numpy배열로 변환후 리스트에 추가\n",
    "    \n",
    "    return np.array(images) # 전체 이미지 리스트를 numpy배열로 변환"
   ]
  },
  {
   "cell_type": "code",
   "execution_count": 3,
   "metadata": {},
   "outputs": [],
   "source": [
    "test_dir = 'C:/Users/HP/Desktop/test/'\n",
    "test_fnames = os.listdir(test_dir)"
   ]
  },
  {
   "cell_type": "code",
   "execution_count": 4,
   "metadata": {},
   "outputs": [],
   "source": [
    "test = load_images(test_dir,test_fnames,(300,300))/255"
   ]
  },
  {
   "cell_type": "code",
   "execution_count": 5,
   "metadata": {
    "scrolled": true
   },
   "outputs": [],
   "source": [
    "final_model = load_model('./model/trained_model.h5')"
   ]
  },
  {
   "cell_type": "code",
   "execution_count": 6,
   "metadata": {},
   "outputs": [
    {
     "name": "stdout",
     "output_type": "stream",
     "text": [
      "WARNING:tensorflow:From <ipython-input-6-16bf5753337d>:1: Sequential.predict_classes (from tensorflow.python.keras.engine.sequential) is deprecated and will be removed after 2021-01-01.\n",
      "Instructions for updating:\n",
      "Please use instead:* `np.argmax(model.predict(x), axis=-1)`,   if your model does multi-class classification   (e.g. if it uses a `softmax` last-layer activation).* `(model.predict(x) > 0.5).astype(\"int32\")`,   if your model does binary classification   (e.g. if it uses a `sigmoid` last-layer activation).\n"
     ]
    }
   ],
   "source": [
    "result=final_model.predict_classes(test)"
   ]
  },
  {
   "cell_type": "code",
   "execution_count": 7,
   "metadata": {},
   "outputs": [],
   "source": [
    "trash = result[0]"
   ]
  },
  {
   "cell_type": "code",
   "execution_count": 8,
   "metadata": {},
   "outputs": [
    {
     "name": "stdout",
     "output_type": "stream",
     "text": [
      "철입니다.\n"
     ]
    }
   ],
   "source": [
    "if trash==0:\n",
    "    print('박스입니다.') \n",
    "elif trash==1:\n",
    "    print('플라스틱입니다.')\n",
    "elif trash==2:\n",
    "    print('철입니다.')\n",
    "elif trash==3:\n",
    "    print('종이입니다.')\n",
    "elif trash==4:\n",
    "    print('유리입니다.')\n",
    "elif trash==5:\n",
    "    print('일반쓰레기입니다.')"
   ]
  },
  {
   "cell_type": "markdown",
   "metadata": {},
   "source": [
    "0 박스\n",
    "1 플라스틱\n",
    "2 캔\n",
    "3 종이\n",
    "4 유리\n",
    "5 분류불가쓰레기"
   ]
  }
 ],
 "metadata": {
  "kernelspec": {
   "display_name": "Python 3",
   "language": "python",
   "name": "python3"
  },
  "language_info": {
   "codemirror_mode": {
    "name": "ipython",
    "version": 3
   },
   "file_extension": ".py",
   "mimetype": "text/x-python",
   "name": "python",
   "nbconvert_exporter": "python",
   "pygments_lexer": "ipython3",
   "version": "3.7.6"
  }
 },
 "nbformat": 4,
 "nbformat_minor": 4
}
